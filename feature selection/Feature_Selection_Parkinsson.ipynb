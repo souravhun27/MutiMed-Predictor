{
  "nbformat": 4,
  "nbformat_minor": 0,
  "metadata": {
    "colab": {
      "provenance": []
    },
    "kernelspec": {
      "name": "python3",
      "display_name": "Python 3"
    },
    "language_info": {
      "name": "python"
    }
  },
  "cells": [
    {
      "cell_type": "code",
      "execution_count": 1,
      "metadata": {
        "id": "lHjbPqwlJ4ru"
      },
      "outputs": [],
      "source": [
        "import pandas as pd\n",
        "import numpy as np\n",
        "from sklearn.feature_selection import RFE\n",
        "from sklearn.svm import SVC\n",
        "from sklearn.model_selection import train_test_split\n",
        "from sklearn.metrics import accuracy_score, f1_score"
      ]
    },
    {
      "cell_type": "code",
      "source": [
        "# Load the dataset\n",
        "parkinsons_data = pd.read_csv('/content/parkinsons.csv')\n",
        "\n",
        "# Prepare data: Drop irrelevant columns and separate features (X) and target (y)\n",
        "X = parkinsons_data.drop(columns=['name', 'status'])\n",
        "y = parkinsons_data['status']\n",
        "\n",
        "# Split the data into training and testing sets\n",
        "X_train, X_test, y_train, y_test = train_test_split(X, y, test_size=0.3, random_state=42)"
      ],
      "metadata": {
        "id": "gKN_BQlPKKSS"
      },
      "execution_count": 3,
      "outputs": []
    },
    {
      "cell_type": "code",
      "source": [
        "# Initialize the SVC model\n",
        "svc = SVC(kernel=\"linear\")\n",
        "\n",
        "# Initialize RFE with the SVC estimator, specifying the number of features to select\n",
        "rfe = RFE(estimator=svc, n_features_to_select=10)\n",
        "rfe.fit(X_train, y_train)\n",
        "\n",
        "# Create a DataFrame with feature names and their ranks\n",
        "feature_ranking = pd.DataFrame({\n",
        "    'Feature': X.columns,\n",
        "    'Rank': rfe.ranking_\n",
        "}).sort_values(by='Rank')\n",
        "\n",
        "# Display the ranked features\n",
        "print(\"Feature Ranking:\\n\", feature_ranking)"
      ],
      "metadata": {
        "colab": {
          "base_uri": "https://localhost:8080/"
        },
        "id": "Yt1vQwiDKOp1",
        "outputId": "d333f707-9ada-4c4b-872c-a737b9579888"
      },
      "execution_count": 4,
      "outputs": [
        {
          "output_type": "stream",
          "name": "stdout",
          "text": [
            "Feature Ranking:\n",
            "              Feature  Rank\n",
            "21               PPE     1\n",
            "19           spread2     1\n",
            "18           spread1     1\n",
            "16              RPDE     1\n",
            "14               NHR     1\n",
            "12          MDVP:APQ     1\n",
            "11      Shimmer:APQ5     1\n",
            "20                D2     1\n",
            "8       MDVP:Shimmer     1\n",
            "9   MDVP:Shimmer(dB)     1\n",
            "0        MDVP:Fo(Hz)     2\n",
            "15               HNR     3\n",
            "1       MDVP:Fhi(Hz)     4\n",
            "13       Shimmer:DDA     5\n",
            "17               DFA     6\n",
            "10      Shimmer:APQ3     7\n",
            "3     MDVP:Jitter(%)     8\n",
            "2       MDVP:Flo(Hz)     9\n",
            "7         Jitter:DDP    10\n",
            "6           MDVP:PPQ    11\n",
            "5           MDVP:RAP    12\n",
            "4   MDVP:Jitter(Abs)    13\n"
          ]
        }
      ]
    },
    {
      "cell_type": "code",
      "source": [
        "# Variables to store results\n",
        "train_accuracies = []\n",
        "train_f1_scores = []\n",
        "test_accuracies = []\n",
        "test_f1_scores = []\n",
        "num_features = []\n",
        "removed_feature_names = []\n",
        "removed_feature_ranks = []\n",
        "\n",
        "# Set minimum features to avoid empty feature set\n",
        "min_features = 9\n",
        "\n",
        "# Start with original dataset\n",
        "X_train_reduced, X_test_reduced = X_train.copy(), X_test.copy()\n",
        "\n",
        "for i in range(len(feature_ranking)):\n",
        "    # Train the model with the current set of features\n",
        "    svc.fit(X_train_reduced, y_train)\n",
        "\n",
        "    # Make predictions on train and test sets\n",
        "    y_train_pred = svc.predict(X_train_reduced)\n",
        "    y_test_pred = svc.predict(X_test_reduced)\n",
        "\n",
        "    # Store performance metrics\n",
        "    train_accuracies.append(accuracy_score(y_train, y_train_pred))\n",
        "    train_f1_scores.append(f1_score(y_train, y_train_pred))\n",
        "    test_accuracies.append(accuracy_score(y_test, y_test_pred))\n",
        "    test_f1_scores.append(f1_score(y_test, y_test_pred))\n",
        "    num_features.append(X_train_reduced.shape[1])\n",
        "\n",
        "    # Stop if reaching minimum feature count\n",
        "    if X_train_reduced.shape[1] <= min_features:\n",
        "        removed_feature_names.append(\"None\")\n",
        "        removed_feature_ranks.append(\"N/A\")\n",
        "        break\n",
        "\n",
        "    # Drop the least important feature\n",
        "    least_important_feature = feature_ranking.iloc[i]['Feature']\n",
        "    feature_rank = feature_ranking.iloc[i]['Rank']\n",
        "    removed_feature_names.append(least_important_feature)\n",
        "    removed_feature_ranks.append(feature_rank)\n",
        "\n",
        "    X_train_reduced = X_train_reduced.drop(columns=[least_important_feature])\n",
        "    X_test_reduced = X_test_reduced.drop(columns=[least_important_feature])\n",
        "\n",
        "# Create performance DataFrame\n",
        "performance_df = pd.DataFrame({\n",
        "    'Num_Features': num_features,\n",
        "    'Removed_Feature': removed_feature_names,\n",
        "    'Feature_Rank': removed_feature_ranks,\n",
        "    'Train_Accuracy': train_accuracies,\n",
        "    'Test_Accuracy': test_accuracies,\n",
        "    'Train_F1_Score': train_f1_scores,\n",
        "    'Test_F1_Score': test_f1_scores\n",
        "})\n",
        "\n",
        "print(\"Performance Metrics:\\n\", performance_df)"
      ],
      "metadata": {
        "colab": {
          "base_uri": "https://localhost:8080/"
        },
        "id": "N_rHfzesKbeF",
        "outputId": "5d8954df-3863-4133-fb1c-fe1b0ef8fd1b"
      },
      "execution_count": 5,
      "outputs": [
        {
          "output_type": "stream",
          "name": "stdout",
          "text": [
            "Performance Metrics:\n",
            "     Num_Features   Removed_Feature Feature_Rank  Train_Accuracy  \\\n",
            "0             22               PPE            1        0.882353   \n",
            "1             21           spread2            1        0.889706   \n",
            "2             20           spread1            1        0.882353   \n",
            "3             19              RPDE            1        0.875000   \n",
            "4             18               NHR            1        0.882353   \n",
            "5             17          MDVP:APQ            1        0.882353   \n",
            "6             16      Shimmer:APQ5            1        0.882353   \n",
            "7             15                D2            1        0.882353   \n",
            "8             14      MDVP:Shimmer            1        0.816176   \n",
            "9             13  MDVP:Shimmer(dB)            1        0.816176   \n",
            "10            12       MDVP:Fo(Hz)            2        0.816176   \n",
            "11            11               HNR            3        0.808824   \n",
            "12            10      MDVP:Fhi(Hz)            4        0.845588   \n",
            "13             9              None          N/A        0.757353   \n",
            "\n",
            "    Test_Accuracy  Train_F1_Score  Test_F1_Score  \n",
            "0        0.881356        0.927273       0.924731  \n",
            "1        0.864407        0.932127       0.914894  \n",
            "2        0.864407        0.927273       0.914894  \n",
            "3        0.864407        0.923767       0.914894  \n",
            "4        0.864407        0.927928       0.914894  \n",
            "5        0.864407        0.927928       0.914894  \n",
            "6        0.864407        0.927928       0.914894  \n",
            "7        0.864407        0.927928       0.914894  \n",
            "8        0.728814        0.884793       0.822222  \n",
            "9        0.728814        0.884793       0.822222  \n",
            "10       0.745763        0.884793       0.835165  \n",
            "11       0.745763        0.879630       0.835165  \n",
            "12       0.796610        0.906667       0.872340  \n",
            "13       0.745763        0.861925       0.854369  \n"
          ]
        }
      ]
    },
    {
      "cell_type": "code",
      "source": [
        "# Calculate the mean, median, and mode for each feature in the dataset\n",
        "feature_stats = pd.DataFrame({\n",
        "    'Feature': X.columns,\n",
        "    'Mean': X.mean(),\n",
        "    'Median': X.median(),\n",
        "    'Mode': X.mode().iloc[0],  # Mode returns a DataFrame; we take the first row for each feature\n",
        "    'Rank': rfe.ranking_  # Use the RFE rankings obtained earlier\n",
        "})\n",
        "\n",
        "# Determine the appropriate default value for each feature\n",
        "def recommend_default(row):\n",
        "    # For symmetric distributions, mean is a good default\n",
        "    if abs(row['Mean'] - row['Median']) < 0.1 * row['Mean']:\n",
        "        return row['Mean']\n",
        "    # For skewed distributions, use median\n",
        "    elif abs(row['Mean'] - row['Median']) >= 0.1 * row['Mean']:\n",
        "        return row['Median']\n",
        "    # For categorical-like features, use mode\n",
        "    else:\n",
        "        return row['Mode']\n",
        "\n",
        "# Apply the recommendation function to determine default values\n",
        "feature_stats['Recommended_Default'] = feature_stats.apply(recommend_default, axis=1)\n",
        "\n",
        "# Sort by rank for readability\n",
        "feature_stats = feature_stats.sort_values(by='Rank')\n",
        "\n",
        "# Display the resulting DataFrame\n",
        "print(\"Feature Statistics with Recommended Defaults:\\n\",\n",
        "      feature_stats[['Feature', 'Mean', 'Median', 'Mode', 'Rank', 'Recommended_Default']])\n"
      ],
      "metadata": {
        "colab": {
          "base_uri": "https://localhost:8080/"
        },
        "id": "LKDJhx6dKnVT",
        "outputId": "e24ee330-18c9-4ed4-8353-82d607d62a00"
      },
      "execution_count": 6,
      "outputs": [
        {
          "output_type": "stream",
          "name": "stdout",
          "text": [
            "Feature Statistics with Recommended Defaults:\n",
            "                            Feature        Mean      Median        Mode  Rank  \\\n",
            "PPE                            PPE    0.206552    0.194052    0.044539     1   \n",
            "spread2                    spread2    0.226510    0.218885    0.210279     1   \n",
            "spread1                    spread1   -5.684397   -5.720868   -7.964984     1   \n",
            "RPDE                          RPDE    0.498536    0.495954    0.256570     1   \n",
            "NHR                            NHR    0.024847    0.011660    0.002310     1   \n",
            "MDVP:APQ                  MDVP:APQ    0.024081    0.018260    0.009030     1   \n",
            "Shimmer:APQ5          Shimmer:APQ5    0.017878    0.013470    0.007470     1   \n",
            "D2                              D2    2.381826    2.361532    1.423287     1   \n",
            "MDVP:Shimmer          MDVP:Shimmer    0.029709    0.022970    0.014500     1   \n",
            "MDVP:Shimmer(dB)  MDVP:Shimmer(dB)    0.282251    0.221000    0.154000     1   \n",
            "MDVP:Fo(Hz)            MDVP:Fo(Hz)  154.228641  148.790000   88.333000     2   \n",
            "HNR                            HNR   21.885974   22.085000    8.441000     3   \n",
            "MDVP:Fhi(Hz)          MDVP:Fhi(Hz)  197.104918  175.829000  102.145000     4   \n",
            "Shimmer:DDA            Shimmer:DDA    0.046993    0.038360    0.015670     5   \n",
            "DFA                            DFA    0.718099    0.722254    0.574282     6   \n",
            "Shimmer:APQ3          Shimmer:APQ3    0.015664    0.012790    0.004690     7   \n",
            "MDVP:Jitter(%)      MDVP:Jitter(%)    0.006220    0.004940    0.003690     8   \n",
            "MDVP:Flo(Hz)          MDVP:Flo(Hz)  116.324631  104.315000   65.476000     9   \n",
            "Jitter:DDP              Jitter:DDP    0.009920    0.007490    0.005070    10   \n",
            "MDVP:PPQ                  MDVP:PPQ    0.003446    0.002690    0.003320    11   \n",
            "MDVP:RAP                  MDVP:RAP    0.003306    0.002500    0.001690    12   \n",
            "MDVP:Jitter(Abs)  MDVP:Jitter(Abs)    0.000044    0.000030    0.000030    13   \n",
            "\n",
            "                  Recommended_Default  \n",
            "PPE                          0.206552  \n",
            "spread2                      0.226510  \n",
            "spread1                     -5.720868  \n",
            "RPDE                         0.498536  \n",
            "NHR                          0.011660  \n",
            "MDVP:APQ                     0.018260  \n",
            "Shimmer:APQ5                 0.013470  \n",
            "D2                           2.381826  \n",
            "MDVP:Shimmer                 0.022970  \n",
            "MDVP:Shimmer(dB)             0.221000  \n",
            "MDVP:Fo(Hz)                154.228641  \n",
            "HNR                         21.885974  \n",
            "MDVP:Fhi(Hz)               175.829000  \n",
            "Shimmer:DDA                  0.038360  \n",
            "DFA                          0.718099  \n",
            "Shimmer:APQ3                 0.012790  \n",
            "MDVP:Jitter(%)               0.004940  \n",
            "MDVP:Flo(Hz)               104.315000  \n",
            "Jitter:DDP                   0.007490  \n",
            "MDVP:PPQ                     0.002690  \n",
            "MDVP:RAP                     0.002500  \n",
            "MDVP:Jitter(Abs)             0.000030  \n"
          ]
        }
      ]
    }
  ]
}